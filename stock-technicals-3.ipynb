{
 "cells": [
  {
   "cell_type": "code",
   "execution_count": 45,
   "metadata": {},
   "outputs": [
    {
     "name": "stdout",
     "output_type": "stream",
     "text": [
      "FRED Data\n"
     ]
    }
   ],
   "source": [
    "print(\"FRED Data\")"
   ]
  },
  {
   "cell_type": "code",
   "execution_count": null,
   "metadata": {},
   "outputs": [],
   "source": []
  },
  {
   "cell_type": "code",
   "execution_count": 46,
   "metadata": {},
   "outputs": [],
   "source": [
    "import pyfredapi as pf \n",
    "import pandas as pd\n",
    "\n",
    "\n",
    "series = \"THREEFYTP10\"\n",
    "df = pf.series.get_series(series_id=series)\n",
    "df.dropna(inplace=True)\n"
   ]
  },
  {
   "cell_type": "code",
   "execution_count": 47,
   "metadata": {},
   "outputs": [],
   "source": [
    "\n",
    "def history_alt(df,col,freq=[-1,-2,-5,-20,-60,-240]):\n",
    "    # -1 current\n",
    "    # -2 previous\n",
    "    # -5 week ago\n",
    "    # -20 month ago \n",
    "    # -60 3 months ago \n",
    "    # -240 a year ago \n",
    "\n",
    "\n",
    "    d_0 = [ df['date'].iloc[freq[0]], round(float(df[col].iloc[freq[0]]),2) ]\n",
    "    d_1 = [ df['date'].iloc[freq[1]], round(float(df[col].iloc[freq[1]]),2) ] \n",
    "    d_2 = [ df['date'].iloc[freq[2]], round(float(df[col].iloc[freq[2]]),2) ]\n",
    "    d_3 = [ df['date'].iloc[freq[3]], round(float(df[col].iloc[freq[3]]),2) ]\n",
    "    d_4 = [ df['date'].iloc[freq[4]], round(float(df[col].iloc[freq[4]]),2) ]\n",
    "\n",
    "\n",
    "    p_1 = round(((d_0[1] - d_1[1]) / d_0[1]) * 100,2)\n",
    "    p_2 = round(((d_0[1] - d_2[1]) / d_0[1]) * 100,2)\n",
    "    p_3 = round(((d_0[1] - d_3[1]) / d_0[1]) * 100,2)\n",
    "    p_4 = round(((d_0[1] - d_4[1]) / d_0[1]) * 100,2)\n",
    "\n",
    "    return [[d_0,d_1,d_2,d_3,d_4],[p_1,p_2,p_3,p_4]]    \n"
   ]
  },
  {
   "cell_type": "code",
   "execution_count": 48,
   "metadata": {},
   "outputs": [
    {
     "name": "stdout",
     "output_type": "stream",
     "text": [
      "[[[Timestamp('2025-01-10 00:00:00'), 0.8], [Timestamp('2025-01-09 00:00:00'), 0.75], [Timestamp('2025-01-06 00:00:00'), 0.71], [Timestamp('2024-12-12 00:00:00'), 0.53], [Timestamp('2024-10-15 00:00:00'), 0.33]], [6.25, 11.25, 33.75, 58.75]]\n"
     ]
    }
   ],
   "source": [
    "d = history_alt(df,'value')\n",
    "\n",
    "print(d)"
   ]
  },
  {
   "cell_type": "code",
   "execution_count": 59,
   "metadata": {},
   "outputs": [
    {
     "data": {
      "text/plain": [
       "(Timestamp('2024-01-10 00:00:00'),\n",
       " Timestamp('2024-12-10 00:00:00'),\n",
       " Timestamp('2025-01-03 00:00:00'),\n",
       " Timestamp('2025-01-09 00:00:00'),\n",
       " Timestamp('2025-01-10 00:00:00'))"
      ]
     },
     "execution_count": 59,
     "metadata": {},
     "output_type": "execute_result"
    }
   ],
   "source": [
    "last = df['date'].iloc[-1]\n",
    "\n",
    "past = last - pd.DateOffset(days=1)\n",
    "\n",
    "past_week = last - pd.DateOffset(weeks=1)\n",
    "\n",
    "past_month = last - pd.DateOffset(months=1)\n",
    "\n",
    "past_year = last - pd.DateOffset(years=1)\n",
    "\n",
    "past_year, past_month, past_week, past, last\n"
   ]
  },
  {
   "cell_type": "code",
   "execution_count": null,
   "metadata": {},
   "outputs": [
    {
     "name": "stdout",
     "output_type": "stream",
     "text": [
      "2025-01-08 00:00:00 0.7392\n",
      "2025-01-02 00:00:00 0.6851\n",
      "2024-12-09 00:00:00 0.454\n",
      "2024-01-09 00:00:00 0.1689\n"
     ]
    }
   ],
   "source": [
    "\n",
    "def fetch_data(df,timestamp):\n",
    "    for ts, row in df.iloc[::-1].iterrows():\n",
    "        if row['date'] <= timestamp:\n",
    "            print(row['date'], row['value'])\n",
    "            return\n",
    "\n",
    "\n",
    "fetch_data(df,past)\n",
    "fetch_data(df,past_week)\n",
    "fetch_data(df,past_month)\n",
    "fetch_data(df,past_year)\n",
    "\n"
   ]
  }
 ],
 "metadata": {
  "kernelspec": {
   "display_name": ".venv",
   "language": "python",
   "name": "python3"
  },
  "language_info": {
   "codemirror_mode": {
    "name": "ipython",
    "version": 3
   },
   "file_extension": ".py",
   "mimetype": "text/x-python",
   "name": "python",
   "nbconvert_exporter": "python",
   "pygments_lexer": "ipython3",
   "version": "3.9.6"
  }
 },
 "nbformat": 4,
 "nbformat_minor": 2
}
