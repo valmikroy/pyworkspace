{
 "cells": [
  {
   "cell_type": "code",
   "execution_count": null,
   "metadata": {},
   "outputs": [],
   "source": [
    "print (\"hello\")"
   ]
  },
  {
   "cell_type": "code",
   "execution_count": null,
   "metadata": {},
   "outputs": [],
   "source": [
    "import yfinance as yf\n",
    "import matplotlib.pyplot as plt\n",
    "# https://ta-lib.github.io/ta-lib-python/funcs.html\n",
    "#https://www.linkedin.com/advice/0/how-do-you-avoid-false-signals-whipsaws-when#:~:text=Using%20volume%20as%20a%20confirmation,and%20a%20possible%20trend%20change.\n",
    "#https://www.linkedin.com/advice/0/how-do-you-set-stop-loss-take-profit-levels?trk=article-ssr-frontend-x-article_little-text-block\n",
    "import talib\n",
    "import numpy as np\n",
    "\n",
    "\n",
    "msft = yf.Ticker(\"MSFT\")\n",
    "\n",
    "msft.info\n",
    "\n",
    "hist = msft.history(period=\"3mo\")\n",
    "\n",
    "close_price = hist.loc[:,\"Close\"]\n",
    "\n",
    "close_price_weekly = close_price.resample('7D')\n",
    "\n",
    "agg_df = close_price_weekly.agg(['min','mean','max', 'std'])\n",
    "\n",
    "agg_df['velocity_1wk'] = (agg_df['mean'] - agg_df['mean'].shift(1))\n",
    "agg_df['velocity_4wk'] = (agg_df['mean'] - agg_df['mean'].shift(4))\n",
    "\n",
    "\n",
    "agg_df['acceleration_1wk'] = (agg_df['velocity_1wk'] - agg_df['velocity_1wk'].shift(1))\n",
    "agg_df['acceleration_4wk'] = (agg_df['velocity_4wk'] - agg_df['velocity_4wk'].shift(1))\n",
    "\n",
    "agg_df.plot( kind=\"bar\", y=\"acceleration_1wk\")"
   ]
  },
  {
   "cell_type": "markdown",
   "metadata": {},
   "source": [
    "Stock analysis notes\n",
    "- Calculate Bolinger bands, analyze how wide the band is to know the volatility \n",
    "- Compare it with the volume that day \n",
    "- We need today, yesterday, a week ago, a month ago, year ago numbers \n",
    "- Simiple moving average rolling window 30 days"
   ]
  },
  {
   "cell_type": "code",
   "execution_count": null,
   "metadata": {},
   "outputs": [],
   "source": []
  },
  {
   "cell_type": "code",
   "execution_count": 67,
   "metadata": {},
   "outputs": [
    {
     "name": "stdout",
     "output_type": "stream",
     "text": [
      "[         nan          nan          nan          nan 317.28129012\n",
      " 320.7495896  311.47726828 306.77440242 306.7853953  310.05013086\n",
      " 310.94147539 311.02196974 313.0590327  312.66774515 312.24440532\n",
      " 312.32538127 312.42524782 314.44561233 319.68797398 321.8872985\n",
      " 323.83885409 322.56277114 322.61488669 327.56073894 335.85764868\n",
      " 339.6743187  339.92600304 335.52828818 336.6809728  338.26083182\n",
      " 338.57188567 341.33293567 341.37525687 338.8292256  336.05159808\n",
      " 336.52179565 340.15509642 349.89075123 350.43441156 349.59356691\n",
      " 349.80831982 349.97441042 344.05320784 342.70911621 341.38546061\n",
      " 341.890826   339.10077094 342.53940966 341.2128575  341.37635943\n",
      " 342.9881305  342.18737234 343.41646865 343.31859632 342.95794631\n",
      " 344.11197452 348.58891185 350.84740498 360.79370547 362.60099045\n",
      " 361.98475999 362.27210767] ----\n",
      "\n",
      "[         nan          nan          nan          nan 292.29103394\n",
      " 297.03865967 303.02357178 304.82563477 304.94138184 305.61790161\n",
      " 306.234552   306.55186157 308.13040771 309.06835327 308.73308716\n",
      " 308.89473267 309.84066162 310.31491089 312.13220215 314.14099121\n",
      " 316.61999512 317.45999756 317.42999878 318.91000366 321.82000732\n",
      " 323.82600708 326.45200806 330.19800415 332.09400024 332.7039978\n",
      " 333.19799805 332.19599609 330.73200073 329.01000366 328.19200439\n",
      " 328.31400757 331.10600586 335.67400513 338.78200073 340.02199707\n",
      " 339.87599487 340.3499939  337.73399048 334.98799438 334.29199829\n",
      " 334.75       333.81799927 334.92200317 336.8        337.51599731\n",
      " 338.5999939  339.03399658 337.29199219 336.18799438 335.99799805\n",
      " 336.27600098 337.87999878 340.66000366 346.06400146 349.63999634\n",
      " 350.48199463 350.18799438] ----\n",
      "\n",
      "[         nan          nan          nan          nan 267.30077776\n",
      " 273.32772974 294.56987527 302.87686711 303.09736838 301.18567237\n",
      " 301.52762862 302.0817534  303.20178273 305.46896139 305.22176899\n",
      " 305.46408406 307.25607542 306.18420944 304.57643032 306.39468392\n",
      " 309.40113615 312.35722398 312.24511086 310.25926838 307.78236597\n",
      " 307.97769546 312.97801307 324.86772012 327.50702769 327.14716379\n",
      " 327.82411043 323.05905652 320.08874459 319.19078173 320.33241071\n",
      " 320.10621949 322.0569153  321.45725902 327.1295899  330.45042723\n",
      " 329.94366993 330.72557738 331.41477312 327.26687256 327.19853597\n",
      " 327.609174   328.5352276  327.30459669 332.3871425  333.6556352\n",
      " 334.21185729 335.88062082 331.16751572 329.05739245 329.03804978\n",
      " 328.44002743 327.17108571 330.47260234 331.33429746 336.67900223\n",
      " 338.97922926 338.1038811 ] ----\n",
      "\n"
     ]
    }
   ],
   "source": [
    "\n",
    "price = []\n",
    "\n",
    "for i in close_price:\n",
    "    price.append(i)\n",
    "\n",
    "\n",
    "output = talib.BBANDS(np.array(price))\n",
    "\n",
    "for x in output:\n",
    "    print(x, \"----\\n\")\n",
    "\n"
   ]
  },
  {
   "cell_type": "code",
   "execution_count": 87,
   "metadata": {},
   "outputs": [
    {
     "ename": "NameError",
     "evalue": "name 'pd' is not defined",
     "output_type": "error",
     "traceback": [
      "\u001b[0;31m---------------------------------------------------------------------------\u001b[0m",
      "\u001b[0;31mNameError\u001b[0m                                 Traceback (most recent call last)",
      "Cell \u001b[0;32mIn[87], line 3\u001b[0m\n\u001b[1;32m      1\u001b[0m \u001b[39mimport\u001b[39;00m \u001b[39mpandas_ta\u001b[39;00m \u001b[39mas\u001b[39;00m \u001b[39mta\u001b[39;00m\n\u001b[0;32m----> 3\u001b[0m df \u001b[39m=\u001b[39m pd\u001b[39m.\u001b[39mDataFrame() \u001b[39m# Empty DataFrame\u001b[39;00m\n\u001b[1;32m      5\u001b[0m df \u001b[39m=\u001b[39m df\u001b[39m.\u001b[39mta\u001b[39m.\u001b[39mticker(\u001b[39m\"\u001b[39m\u001b[39maapl\u001b[39m\u001b[39m\"\u001b[39m)\n\u001b[1;32m      8\u001b[0m df\u001b[39m.\u001b[39mset_index(pd\u001b[39m.\u001b[39mDatetimeIndex(df[\u001b[39m\"\u001b[39m\u001b[39mdatetime\u001b[39m\u001b[39m\"\u001b[39m]), inplace\u001b[39m=\u001b[39m\u001b[39mTrue\u001b[39;00m)\n",
      "\u001b[0;31mNameError\u001b[0m: name 'pd' is not defined"
     ]
    }
   ],
   "source": [
    "import pandas as pd\n",
    "import pandas_ta as ta\n",
    "\n",
    "df = pd.DataFrame() # Empty DataFrame\n",
    "\n",
    "df = df.ta.ticker(\"aapl\")\n",
    "\n",
    "\n",
    "df.set_index(pd.DatetimeIndex(df[\"datetime\"]), inplace=True)\n",
    "\n",
    "\n",
    "print(df)\n",
    "\n"
   ]
  }
 ],
 "metadata": {
  "kernelspec": {
   "display_name": ".venv",
   "language": "python",
   "name": "python3"
  },
  "language_info": {
   "codemirror_mode": {
    "name": "ipython",
    "version": 3
   },
   "file_extension": ".py",
   "mimetype": "text/x-python",
   "name": "python",
   "nbconvert_exporter": "python",
   "pygments_lexer": "ipython3",
   "version": "3.9.6"
  },
  "orig_nbformat": 4
 },
 "nbformat": 4,
 "nbformat_minor": 2
}
